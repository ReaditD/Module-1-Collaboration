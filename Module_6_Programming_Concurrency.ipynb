{
 "cells": [
  {
   "cell_type": "code",
   "execution_count": 26,
   "id": "5f996861-8cac-4be8-9978-5e2188b6d6a0",
   "metadata": {},
   "outputs": [
    {
     "name": "stdout",
     "output_type": "stream",
     "text": [
      "Friday, October, 03, 2025\n"
     ]
    }
   ],
   "source": [
    "\"\"\"13.1_This app takes the current date as a string and writes it into a text file-today.text\"\"\"\n",
    "from datetime import datetime\n",
    "\n",
    "def wtoday():\n",
    "    # Function: What is Today's date?\n",
    "    w = datetime.now() #gets computer time\n",
    "    return w\n",
    "    \n",
    "arrange = wtoday().strftime(\"%A, %B, %d, %Y\")#Converting to String the values of Weekday, Month and day\n",
    "\n",
    "f = open(\"today.txt\",'w')# Opens new file as Writeable \n",
    "f.write(arrange) # writes the date to the file\n",
    "f.close() #Closes the text file\n",
    "print (arrange) # Shows the string of Today's date"
   ]
  },
  {
   "cell_type": "code",
   "execution_count": 27,
   "id": "9e52a5cc-c4f8-403c-9c83-3b6c3ee2d24e",
   "metadata": {},
   "outputs": [
    {
     "name": "stdout",
     "output_type": "stream",
     "text": [
      "Friday, October, 03, 2025\n"
     ]
    }
   ],
   "source": [
    "# 13.2_Reads the text file created above\n",
    "f = open (\"today.txt\", 'r')#Opens the file in read only mode\n",
    "contents = f.read()# Copies the contents to contents\n",
    "f.close() #closes the txt file  \n",
    "today_string = contents\n",
    "print(contents)"
   ]
  },
  {
   "cell_type": "code",
   "execution_count": 28,
   "id": "5da73456-f40f-4d05-8a40-67f06a7d222b",
   "metadata": {},
   "outputs": [
    {
     "name": "stdout",
     "output_type": "stream",
     "text": [
      "time.struct_time(tm_year=2025, tm_mon=10, tm_mday=3, tm_hour=0, tm_min=0, tm_sec=0, tm_wday=4, tm_yday=276, tm_isdst=-1)\n"
     ]
    }
   ],
   "source": [
    "#13.3_Parse the Variable, today_string, back into a time value not a string\n",
    "import time\n",
    "arrange2 = \"%A, %B, %d, %Y\" #The format to convet\n",
    "ctv = time.strptime(today_string, arrange2) # Converted Time value\n",
    "print(ctv)\n",
    "#print(today_string)"
   ]
  },
  {
   "cell_type": "code",
   "execution_count": 75,
   "id": "2b8699dc-2e00-44ad-8263-f232ed87f10c",
   "metadata": {},
   "outputs": [
    {
     "name": "stdout",
     "output_type": "stream",
     "text": [
      "Starting process 1 at 10:02:01.719\n",
      "Starting process 2 at 10:02:01.723\n",
      "Starting process 3 at 10:02:01.728\n",
      "Exit\n"
     ]
    }
   ],
   "source": [
    "#15.1 Create three separate processes using multiprocessing\n",
    "#create three separate processes. Make each one wait a random number of seconds between \n",
    "# 0 and 1, print the current time and then exit. \n",
    "import multiprocessing\n",
    "import os\n",
    "import random\n",
    "import time\n",
    "import sys\n",
    "\n",
    "def get_time_with_ms():\n",
    "    \"\"\"Return the current time formatted as HH:MM:SS.mmm (with milliseconds).\"\"\"\n",
    "    return time.strftime(\"%H:%M:%S\", time.localtime()) + f\".{int((time.time() % 1) * 1000):03d}\"\n",
    "\n",
    "def delay(process_id):\n",
    "    t = random.uniform(0, 1)\n",
    "    start_time = get_time_with_ms()\n",
    "    sys.stdout.flush()\n",
    "    time.sleep(t)\n",
    "    end_time = get_time_with_ms()\n",
    "    sys.stdout.flush()\n",
    "\n",
    "def run_processes():\n",
    "    processes = []\n",
    "    for i in range(3):\n",
    "        current_time = get_time_with_ms()\n",
    "        print(f\"Starting process {i+1} at {current_time}\")\n",
    "        sys.stdout.flush()\n",
    "\n",
    "        p = multiprocessing.Process(target=delay, args=(i + 1,))\n",
    "        p.daemon = False\n",
    "        p.start()\n",
    "        processes.append(p)\n",
    "\n",
    "    for p in processes:\n",
    "        p.join()\n",
    "\n",
    "    print(\"Exit\")\n",
    "    sys.stdout.flush()\n",
    "\n",
    "if __name__ == \"__main__\":\n",
    "    multiprocessing.set_start_method(\"spawn\", force=True)\n",
    "    run_processes()"
   ]
  },
  {
   "cell_type": "code",
   "execution_count": null,
   "id": "fa1124af-98d3-4be4-9954-3b5ddf178a78",
   "metadata": {},
   "outputs": [],
   "source": []
  }
 ],
 "metadata": {
  "kernelspec": {
   "display_name": "Python [conda env:base] *",
   "language": "python",
   "name": "conda-base-py"
  },
  "language_info": {
   "codemirror_mode": {
    "name": "ipython",
    "version": 3
   },
   "file_extension": ".py",
   "mimetype": "text/x-python",
   "name": "python",
   "nbconvert_exporter": "python",
   "pygments_lexer": "ipython3",
   "version": "3.13.5"
  },
  "widgets": {
   "application/vnd.jupyter.widget-state+json": {
    "state": {},
    "version_major": 2,
    "version_minor": 0
   }
  }
 },
 "nbformat": 4,
 "nbformat_minor": 5
}
