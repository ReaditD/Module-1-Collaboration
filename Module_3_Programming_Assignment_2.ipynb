{
 "cells": [
  {
   "cell_type": "code",
   "execution_count": 11,
   "id": "ab11d480-8c46-48a4-9d48-5b0923081471",
   "metadata": {},
   "outputs": [
    {
     "name": "stdout",
     "output_type": "stream",
     "text": [
      "['mozzarella', 'cinderella', 'salmonella']\n"
     ]
    }
   ],
   "source": [
    "#Derek Gerry: Module 3 programming assignments.\n",
    "#7.4\n",
    "things =[\"mozzarella\", \"cinderella\", \"salmonella\"]\n",
    "print(things)"
   ]
  },
  {
   "cell_type": "code",
   "execution_count": 12,
   "id": "9fde9a80-e3e1-494d-9bee-4f997b487ba6",
   "metadata": {},
   "outputs": [
    {
     "name": "stdout",
     "output_type": "stream",
     "text": [
      "['mozzarella', 'Cinderella', 'salmonella']\n"
     ]
    }
   ],
   "source": [
    "#7.5\n",
    "things =[\"mozzarella\", \"cinderella\", \"salmonella\"]\n",
    "things[1] = \"Cinderella\"\n",
    "print(things)"
   ]
  },
  {
   "cell_type": "code",
   "execution_count": 13,
   "id": "362907cb-d1f3-4ad3-99c9-727922273dc5",
   "metadata": {},
   "outputs": [
    {
     "name": "stdout",
     "output_type": "stream",
     "text": [
      "['MOZZARELLA', 'cinderella', 'salmonella']\n"
     ]
    }
   ],
   "source": [
    "#7.6\n",
    "things =[\"mozzaralla\", \"cinderella\", \"salmonella\"]\n",
    "things[0] = \"MOZZARELLA\"\n",
    "print(things)"
   ]
  },
  {
   "cell_type": "code",
   "execution_count": 24,
   "id": "a717220b-3122-4dc2-9f80-83cce2cf21d1",
   "metadata": {},
   "outputs": [
    {
     "name": "stdout",
     "output_type": "stream",
     "text": [
      "['mozzarella', 'cinderella']\n"
     ]
    }
   ],
   "source": [
    "#7.7\n",
    "things =[\"mozzarella\", \"cinderella\", \"salmonella\"]\n",
    "things.remove (\"salmonella\")\n",
    "print(things)"
   ]
  },
  {
   "cell_type": "code",
   "execution_count": 14,
   "id": "6cd46242-d40f-4483-8407-2b26701c571b",
   "metadata": {},
   "outputs": [
    {
     "name": "stdout",
     "output_type": "stream",
     "text": [
      "['Harry', 'Ron', 'Hermione']\n"
     ]
    }
   ],
   "source": [
    "#9.1\n",
    "def good():\n",
    "    goodNames = ['Harry', 'Ron', 'Hermione']\n",
    "    return goodNames\n",
    "Names = good()\n",
    "print (Names)    \n"
   ]
  },
  {
   "cell_type": "code",
   "execution_count": 38,
   "id": "459a3121-e38e-44a7-9090-c75af6aa1c44",
   "metadata": {},
   "outputs": [
    {
     "name": "stdout",
     "output_type": "stream",
     "text": [
      "1\n",
      "3\n",
      "5\n",
      "7\n",
      "9\n"
     ]
    }
   ],
   "source": [
    "#9.2\n",
    "def get_odds():\n",
    "    for i in range(10):#Loops through numbers 0-9\n",
    "        if i % 2 == 1: # if 'True', this number is an odd number\n",
    "            yield i # send it to i otherwise continue on to the next line.\n",
    "                    # 'yield i' also knows where it left off and returns there on next loop.\n",
    "for odd in get_odds():#iterates through get_odds()\n",
    "    print(odd)"
   ]
  },
  {
   "cell_type": "code",
   "execution_count": 39,
   "id": "106e8ebd-b203-4d1d-8e13-abbc309701ca",
   "metadata": {},
   "outputs": [
    {
     "name": "stdout",
     "output_type": "stream",
     "text": [
      "1\n",
      "3\n",
      "5\n",
      "7\n",
      "9\n"
     ]
    }
   ],
   "source": [
    "def get_odds():\n",
    "    odds = []  # create an empty list\n",
    "    for i in range(10):\n",
    "        if i % 2 == 1:\n",
    "            odds.append(i)  # add odd number to list\n",
    "    return odds  # return the whole list\n",
    "\n",
    "for odd_number in get_odds():\n",
    "    print(odd_number)"
   ]
  },
  {
   "cell_type": "code",
   "execution_count": null,
   "id": "7a95f760-65f8-4170-b416-c80f45bc6e9b",
   "metadata": {},
   "outputs": [],
   "source": []
  }
 ],
 "metadata": {
  "kernelspec": {
   "display_name": "Python [conda env:base] *",
   "language": "python",
   "name": "conda-base-py"
  },
  "language_info": {
   "codemirror_mode": {
    "name": "ipython",
    "version": 3
   },
   "file_extension": ".py",
   "mimetype": "text/x-python",
   "name": "python",
   "nbconvert_exporter": "python",
   "pygments_lexer": "ipython3",
   "version": "3.13.5"
  }
 },
 "nbformat": 4,
 "nbformat_minor": 5
}
