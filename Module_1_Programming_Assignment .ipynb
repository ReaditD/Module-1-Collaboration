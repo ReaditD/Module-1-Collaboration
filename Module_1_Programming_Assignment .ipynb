{
 "cells": [
  {
   "cell_type": "code",
   "execution_count": 12,
   "id": "f6a950f0-e6b0-4186-b1f5-1f5a6fbb626f",
   "metadata": {},
   "outputs": [
    {
     "name": "stdout",
     "output_type": "stream",
     "text": [
      "There are 3600 seconds in an hour\n",
      "3600 seconds in an hour\n",
      "There are 86400 seconds in a day\n",
      "24.0 floating point divison\n",
      "24 integer Divison\n"
     ]
    }
   ],
   "source": [
    "#3.1 How many seconds are in an hour?\n",
    "sec = 60\n",
    "min = 60\n",
    "\n",
    "print(\"There are\", (sec * min) , \"seconds in an hour\")\n",
    "\n",
    "#3.2 Assign above result into a vairalbe\n",
    "seconds_per_hour = sec * min\n",
    "print(seconds_per_hour, \"seconds in an hour\")\n",
    "\n",
    "#3.3 & 3.4 How many seconds in a day?\n",
    "hr = 24\n",
    "seconds_per_day = seconds_per_hour * hr\n",
    "print (\"There are\",seconds_per_day,\"seconds in a day\")\n",
    "\n",
    "3.5 #Devide seconds_per_day by seconds_per_hour using floating point devision //\n",
    "print(seconds_per_day / seconds_per_hour,\"floating point divison\")\n",
    "\n",
    "#3.6 Devide seconds_per_day by seconds_per_hour using integer devision //\n",
    "print(seconds_per_day // seconds_per_hour,\"integer Divison\")"
   ]
  },
  {
   "cell_type": "code",
   "execution_count": null,
   "id": "367545bc-6de4-401b-8a65-b1964e7b363b",
   "metadata": {},
   "outputs": [],
   "source": []
  }
 ],
 "metadata": {
  "kernelspec": {
   "display_name": "Python [conda env:base] *",
   "language": "python",
   "name": "conda-base-py"
  },
  "language_info": {
   "codemirror_mode": {
    "name": "ipython",
    "version": 3
   },
   "file_extension": ".py",
   "mimetype": "text/x-python",
   "name": "python",
   "nbconvert_exporter": "python",
   "pygments_lexer": "ipython3",
   "version": "3.13.5"
  }
 },
 "nbformat": 4,
 "nbformat_minor": 5
}
