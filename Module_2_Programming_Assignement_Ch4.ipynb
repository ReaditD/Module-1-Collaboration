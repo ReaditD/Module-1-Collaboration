{
 "cells": [
  {
   "cell_type": "code",
   "execution_count": 8,
   "id": "d0272c1a-6953-4fb1-a661-2495255b632a",
   "metadata": {},
   "outputs": [
    {
     "name": "stdin",
     "output_type": "stream",
     "text": [
      "Please enter a secret number 5\n",
      "Please guess the secret number 5\n"
     ]
    },
    {
     "name": "stdout",
     "output_type": "stream",
     "text": [
      "just right\n"
     ]
    }
   ],
   "source": [
    "\"\"\"4.1 Guessing Game -DEREK GERRY-\"\"\"\n",
    "secret = input(\"Please enter a secret number\")\n",
    "guess = input (\"Please guess the secret number\")\n",
    "if guess < secret:\n",
    "    print(\"too low\")\n",
    "elif guess> secret:\n",
    "    print(\"too high\")\n",
    "else:\n",
    "    print (\"just right\")"
   ]
  },
  {
   "cell_type": "code",
   "execution_count": 20,
   "id": "8a960b5d-3317-4b67-999d-384065ab9bec",
   "metadata": {},
   "outputs": [
    {
     "name": "stdin",
     "output_type": "stream",
     "text": [
      "Please enter a secret number 6\n",
      "Please guess the secret number 5\n"
     ]
    },
    {
     "name": "stdout",
     "output_type": "stream",
     "text": [
      "too low\n"
     ]
    }
   ],
   "source": [
    "secret = input(\"Please enter a secret number\")\n",
    "guess = input (\"Please guess the secret number\")\n",
    "if guess < secret:\n",
    "    print(\"too low\")\n",
    "elif guess> secret:\n",
    "    print(\"too high\")\n",
    "else:\n",
    "    print (\"just right\")"
   ]
  },
  {
   "cell_type": "code",
   "execution_count": 21,
   "id": "a4ec79e3-0bc1-40f7-a8cd-893d76c1408d",
   "metadata": {},
   "outputs": [
    {
     "name": "stdin",
     "output_type": "stream",
     "text": [
      "Please enter a secret number 3\n",
      "Please guess the secret number 6\n"
     ]
    },
    {
     "name": "stdout",
     "output_type": "stream",
     "text": [
      "too high\n"
     ]
    }
   ],
   "source": [
    "secret = input(\"Please enter a secret number\")\n",
    "guess = input (\"Please guess the secret number\")\n",
    "if guess < secret:\n",
    "    print(\"too low\")\n",
    "elif guess> secret:\n",
    "    print(\"too high\")\n",
    "else:\n",
    "    print (\"just right\")"
   ]
  },
  {
   "cell_type": "code",
   "execution_count": 15,
   "id": "4264fc38-c3eb-49a1-b156-b04e6df78d79",
   "metadata": {},
   "outputs": [
    {
     "name": "stdout",
     "output_type": "stream",
     "text": [
      "Its a pumpkin\n"
     ]
    }
   ],
   "source": [
    "\"\"\"4.2 cherry, pea, watermellon or pumpkin?  True/False\"\"\"\n",
    "small = False\n",
    "green = False\n",
    "if small:\n",
    "    if green:\n",
    "        print(\"It's a pea\")\n",
    "    else: \n",
    "        print (\"It's a cherry\")\n",
    "else:\n",
    "    if green:\n",
    "        print (\"It's a watermellon\")\n",
    "    else: \n",
    "        print(\"Its a pumpkin\")\n"
   ]
  },
  {
   "cell_type": "code",
   "execution_count": 16,
   "id": "a86df9b6-d26e-451a-ab90-93776805bdd8",
   "metadata": {},
   "outputs": [
    {
     "name": "stdout",
     "output_type": "stream",
     "text": [
      "It's a cherry\n"
     ]
    }
   ],
   "source": [
    "small = True\n",
    "green = False\n",
    "if small:\n",
    "    if green:\n",
    "        print(\"It's a pea\")\n",
    "    else: \n",
    "        print (\"It's a cherry\")\n",
    "else:\n",
    "    if green:\n",
    "        print (\"It's a watermellon\")\n",
    "    else: \n",
    "        print(\"Its a pumpkin\")"
   ]
  },
  {
   "cell_type": "code",
   "execution_count": 17,
   "id": "94937edf-2e21-488f-8034-47248a03e562",
   "metadata": {},
   "outputs": [
    {
     "name": "stdout",
     "output_type": "stream",
     "text": [
      "It's a watermellon\n"
     ]
    }
   ],
   "source": [
    "small = False\n",
    "green = True\n",
    "if small:\n",
    "    if green:\n",
    "        print(\"It's a pea\")\n",
    "    else: \n",
    "        print (\"It's a cherry\")\n",
    "else:\n",
    "    if green:\n",
    "        print (\"It's a watermellon\")\n",
    "    else: \n",
    "        print(\"Its a pumpkin\")"
   ]
  },
  {
   "cell_type": "code",
   "execution_count": 18,
   "id": "0700b494-e196-41ed-97ae-d28d145a0212",
   "metadata": {},
   "outputs": [
    {
     "name": "stdout",
     "output_type": "stream",
     "text": [
      "It's a pea\n"
     ]
    }
   ],
   "source": [
    "small = True\n",
    "green = True\n",
    "if small:\n",
    "    if green:\n",
    "        print(\"It's a pea\")\n",
    "    else: \n",
    "        print (\"It's a cherry\")\n",
    "else:\n",
    "    if green:\n",
    "        print (\"It's a watermellon\")\n",
    "    else: \n",
    "        print(\"Its a pumpkin\")"
   ]
  },
  {
   "cell_type": "code",
   "execution_count": null,
   "id": "659243d5-25a9-483d-8f07-fe7b0938972e",
   "metadata": {},
   "outputs": [],
   "source": []
  }
 ],
 "metadata": {
  "kernelspec": {
   "display_name": "Python [conda env:base] *",
   "language": "python",
   "name": "conda-base-py"
  },
  "language_info": {
   "codemirror_mode": {
    "name": "ipython",
    "version": 3
   },
   "file_extension": ".py",
   "mimetype": "text/x-python",
   "name": "python",
   "nbconvert_exporter": "python",
   "pygments_lexer": "ipython3",
   "version": "3.13.5"
  }
 },
 "nbformat": 4,
 "nbformat_minor": 5
}
