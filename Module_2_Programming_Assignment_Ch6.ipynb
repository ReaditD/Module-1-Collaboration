{
 "cells": [
  {
   "cell_type": "code",
   "execution_count": 3,
   "id": "d0272c1a-6953-4fb1-a661-2495255b632a",
   "metadata": {},
   "outputs": [
    {
     "name": "stdout",
     "output_type": "stream",
     "text": [
      "[3, 2, 1, 0]\n"
     ]
    }
   ],
   "source": [
    "\"\"\"Module_2_Programming_Assignement_Ch6\n",
    "6.1 -DEREK GERRY-\"\"\"\n",
    "list = [3,2,1,0]\n",
    "for numbers in [list]:\n",
    "    print (numbers)"
   ]
  },
  {
   "cell_type": "code",
   "execution_count": 46,
   "id": "2d0761a2-c9de-4046-b446-673f8646b804",
   "metadata": {},
   "outputs": [
    {
     "name": "stdout",
     "output_type": "stream",
     "text": [
      "1\n",
      "too low\n",
      "2\n",
      "too low\n",
      "3\n",
      "too low\n",
      "4\n",
      "too low\n",
      "5\n",
      "too low\n",
      "6\n",
      "too low\n",
      "found it\n",
      "7\n"
     ]
    }
   ],
   "source": [
    "\"\"\"6.2 -DEREK GERRY-\"\"\"\n",
    "guess_me = 7\n",
    "number = 1\n",
    "\n",
    "while number <= guess_me:\n",
    "    if number < guess_me:\n",
    "        print (number)\n",
    "        print (\"too low\")\n",
    "        number += 1\n",
    "    else:\n",
    "        number == guess_me\n",
    "        print(\"found it\")\n",
    "        print (number)\n",
    "        break\n",
    " "
   ]
  },
  {
   "cell_type": "code",
   "execution_count": 58,
   "id": "116b6c69-c9ad-4cf1-9b46-b8f8ff3ca5bd",
   "metadata": {},
   "outputs": [
    {
     "name": "stdout",
     "output_type": "stream",
     "text": [
      "0\n",
      "too low\n",
      "1\n",
      "too low\n",
      "2\n",
      "too low\n",
      "3\n",
      "too low\n",
      "4\n",
      "too low\n",
      "found it: 5\n",
      "6\n",
      "oops\n"
     ]
    }
   ],
   "source": [
    "\"\"\"6.3 -DEREK GERRY-\"\"\"\n",
    "guess_me = 5\n",
    "for number in range(10):\n",
    "    if number < guess_me:\n",
    "        print (number)\n",
    "        print (\"too low\")\n",
    "    elif number == guess_me:\n",
    "        print (\"found it:\", number)\n",
    "        #break\n",
    "        #continue\n",
    "    else:\n",
    "        if number > guess_me:\n",
    "            print (number)\n",
    "            print(\"oops\")\n",
    "            break"
   ]
  },
  {
   "cell_type": "code",
   "execution_count": 106,
   "id": "c4575ec3-a6c6-45b2-be1b-1be77a7c3b39",
   "metadata": {},
   "outputs": [
    {
     "name": "stdin",
     "output_type": "stream",
     "text": [
      "Enter 'q' to quit, or a number between 0 and 10 to guess what the computer has chosen.\n",
      " You entered: q\n"
     ]
    }
   ],
   "source": [
    "\"\"\"6.3.2 -DEREK GERRY-\n",
    "In this version, the program below\n",
    "is corrected. It is using a random number selection \n",
    "generatned by the computer. The user is trying to \n",
    "guess what number the computer has chosed\"\"\"\n",
    "import random\n",
    "guess_me = random.randint(0,10)#random computer number selection\n",
    "\n",
    "c_rand = input(\"Enter 'q' to quit, or a number between 0 and 10 to guess \\\n",
    "what the computer has chosen.\\n You entered:\")\n",
    "while c_rand != \"q\":\n",
    "    #print(guess_me, \" is the computer chosen number\")\n",
    "    guess = int(c_rand)\n",
    "    if guess < guess_me:\n",
    "        print (\"too low\")\n",
    "        c_rand = input(\"Enter 'q' to quit, or a number between 0 and 10 to guess \\\n",
    "what the computer has chosen.\\n You entered:\")\n",
    "    elif guess == guess_me:\n",
    "        print (\"found it:\") \n",
    "        break #exits loop\n",
    "    else:       \n",
    "        if guess > guess_me:\n",
    "            print(\"oops, too high\")\n",
    "            c_rand = input(\"Enter 'q' to quit, or a number between 0 and 10 to guess \\\n",
    "what the computer has chosen.\\n You entered:\")"
   ]
  },
  {
   "cell_type": "markdown",
   "id": "b4ecafc3-6a4a-4385-b772-2373ba7f6901",
   "metadata": {},
   "source": [
    "# Assistant\n",
    "The error occurs because there's an indentation issue in your code. You have indented code blocks without a proper loop or function definition. Additionally, the variable `number` is used but not defined.\n",
    "\n",
    "Would you like me to provide the corrected code?"
   ]
  },
  {
   "cell_type": "markdown",
   "id": "dd18b4f2-f543-4c27-b153-475431b6c922",
   "metadata": {},
   "source": [
    "# Assistant\n",
    "The error occurs because you're trying to iterate over an integer (`number = 1`), but integers are not iterable in Python. The `for` loop requires an iterable object like a list, tuple, string, or range.\n",
    "\n",
    "In this case, it looks like you want to iterate through numbers starting from 1 until you reach or exceed `guess_me`. \n",
    "\n",
    "Would you like me to provide the corrected code?"
   ]
  }
 ],
 "metadata": {
  "kernelspec": {
   "display_name": "Python [conda env:base] *",
   "language": "python",
   "name": "conda-base-py"
  },
  "language_info": {
   "codemirror_mode": {
    "name": "ipython",
    "version": 3
   },
   "file_extension": ".py",
   "mimetype": "text/x-python",
   "name": "python",
   "nbconvert_exporter": "python",
   "pygments_lexer": "ipython3",
   "version": "3.13.5"
  }
 },
 "nbformat": 4,
 "nbformat_minor": 5
}
